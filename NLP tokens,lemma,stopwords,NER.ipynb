{
 "cells": [
  {
   "cell_type": "code",
   "execution_count": 2,
   "metadata": {},
   "outputs": [],
   "source": [
    "import os\n",
    "import nltk\n",
    "import nltk.corpus"
   ]
  },
  {
   "cell_type": "code",
   "execution_count": null,
   "metadata": {},
   "outputs": [],
   "source": []
  },
  {
   "cell_type": "code",
   "execution_count": 3,
   "metadata": {},
   "outputs": [],
   "source": [
    "AI='''In general use, the term artificial intelligence[1] means a programme which mimics human cognition. At least some of the things we associate with other minds, such as learning and problem solving can be done by computers, though not in the same way as we do.[2] Andreas Kaplan and Michael Haenlein define AI as a system’s ability to correctly interpret external data, to learn from such data, and to use those learnings to achieve specific goals and tasks through flexible adaptation.[3]\n",
    "\n",
    "An ideal (perfect) intelligent machine is a flexible agent which perceives its environment and takes actions to maximize its chance of success at some goal or objective.[4] As machines become increasingly capable, mental faculties once thought to require intelligence are removed from the definition. For example, optical character recognition is no longer perceived as an example of \"artificial intelligence\": it is just a routine technology.\n",
    "\n",
    "At present we use the term AI for successfully understanding human speech,[2] competing at a high level in strategic game systems (such as Chess and Go), self-driving cars, and interpreting complex data.[5] Some people also consider AI a danger to humanity if it continues to progress at its current pace.[6]\n",
    "\n",
    "An extreme goal of AI research is to create computer programs that can learn, solve problems, and think logically.[7][8] In practice, however, most applications have picked on problems which computers can do well. Searching data bases and doing calculations are things computers do better than people. On the other hand, \"perceiving its environment\" in any real sense is way beyond present-day computing.\n",
    "\n",
    "AI involves many different fields like computer science, mathematics, linguistics, psychology, neuroscience, and philosophy. Eventually researchers hope to create a general artificial intelligence which can solve many problems instead of focusing on just one. Researchers are also trying to create creative and emotional AI which can possibly empathize or create art. Many approaches and tools have been tried.\n",
    "\n",
    "Borrowing from the management literature, Kaplan and Haenlein classify artificial intelligence into three different types of AI systems: analytical, human-inspired, and humanized artificial intelligence.[3] Analytical AI has only characteristics consistent with cognitive intelligence generating cognitive representation of the world and using learning based on past experience to inform future decisions. Human-inspired AI has elements from cognitive as well as emotional intelligence, understanding, in addition to cognitive elements, also human emotions considering them in their decision making. Humanized AI shows characteristics of all types of competencies (i.e., cognitive, emotional, and social intelligence), able to be self-conscious and self-aware in interactions with others. '''"
   ]
  },
  {
   "cell_type": "code",
   "execution_count": 4,
   "metadata": {},
   "outputs": [
    {
     "data": {
      "text/plain": [
       "str"
      ]
     },
     "execution_count": 4,
     "metadata": {},
     "output_type": "execute_result"
    }
   ],
   "source": [
    "type(AI)"
   ]
  },
  {
   "cell_type": "code",
   "execution_count": 5,
   "metadata": {},
   "outputs": [],
   "source": [
    "from nltk.tokenize import word_tokenize"
   ]
  },
  {
   "cell_type": "code",
   "execution_count": 6,
   "metadata": {},
   "outputs": [
    {
     "name": "stderr",
     "output_type": "stream",
     "text": [
      "[nltk_data] Downloading package punkt to\n",
      "[nltk_data]     C:\\Users\\KIIT\\AppData\\Roaming\\nltk_data...\n",
      "[nltk_data]   Package punkt is already up-to-date!\n"
     ]
    },
    {
     "data": {
      "text/plain": [
       "True"
      ]
     },
     "execution_count": 6,
     "metadata": {},
     "output_type": "execute_result"
    }
   ],
   "source": [
    "nltk.download('punkt')"
   ]
  },
  {
   "cell_type": "code",
   "execution_count": 7,
   "metadata": {},
   "outputs": [],
   "source": [
    "AI_words=word_tokenize(AI)"
   ]
  },
  {
   "cell_type": "code",
   "execution_count": 8,
   "metadata": {},
   "outputs": [
    {
     "data": {
      "text/plain": [
       "['In',\n",
       " 'general',\n",
       " 'use',\n",
       " ',',\n",
       " 'the',\n",
       " 'term',\n",
       " 'artificial',\n",
       " 'intelligence',\n",
       " '[',\n",
       " '1',\n",
       " ']',\n",
       " 'means',\n",
       " 'a',\n",
       " 'programme',\n",
       " 'which',\n",
       " 'mimics',\n",
       " 'human',\n",
       " 'cognition',\n",
       " '.',\n",
       " 'At',\n",
       " 'least',\n",
       " 'some',\n",
       " 'of',\n",
       " 'the',\n",
       " 'things',\n",
       " 'we',\n",
       " 'associate',\n",
       " 'with',\n",
       " 'other',\n",
       " 'minds',\n",
       " ',',\n",
       " 'such',\n",
       " 'as',\n",
       " 'learning',\n",
       " 'and',\n",
       " 'problem',\n",
       " 'solving',\n",
       " 'can',\n",
       " 'be',\n",
       " 'done',\n",
       " 'by',\n",
       " 'computers',\n",
       " ',',\n",
       " 'though',\n",
       " 'not',\n",
       " 'in',\n",
       " 'the',\n",
       " 'same',\n",
       " 'way',\n",
       " 'as',\n",
       " 'we',\n",
       " 'do',\n",
       " '.',\n",
       " '[',\n",
       " '2',\n",
       " ']',\n",
       " 'Andreas',\n",
       " 'Kaplan',\n",
       " 'and',\n",
       " 'Michael',\n",
       " 'Haenlein',\n",
       " 'define',\n",
       " 'AI',\n",
       " 'as',\n",
       " 'a',\n",
       " 'system',\n",
       " '’',\n",
       " 's',\n",
       " 'ability',\n",
       " 'to',\n",
       " 'correctly',\n",
       " 'interpret',\n",
       " 'external',\n",
       " 'data',\n",
       " ',',\n",
       " 'to',\n",
       " 'learn',\n",
       " 'from',\n",
       " 'such',\n",
       " 'data',\n",
       " ',',\n",
       " 'and',\n",
       " 'to',\n",
       " 'use',\n",
       " 'those',\n",
       " 'learnings',\n",
       " 'to',\n",
       " 'achieve',\n",
       " 'specific',\n",
       " 'goals',\n",
       " 'and',\n",
       " 'tasks',\n",
       " 'through',\n",
       " 'flexible',\n",
       " 'adaptation',\n",
       " '.',\n",
       " '[',\n",
       " '3',\n",
       " ']',\n",
       " 'An',\n",
       " 'ideal',\n",
       " '(',\n",
       " 'perfect',\n",
       " ')',\n",
       " 'intelligent',\n",
       " 'machine',\n",
       " 'is',\n",
       " 'a',\n",
       " 'flexible',\n",
       " 'agent',\n",
       " 'which',\n",
       " 'perceives',\n",
       " 'its',\n",
       " 'environment',\n",
       " 'and',\n",
       " 'takes',\n",
       " 'actions',\n",
       " 'to',\n",
       " 'maximize',\n",
       " 'its',\n",
       " 'chance',\n",
       " 'of',\n",
       " 'success',\n",
       " 'at',\n",
       " 'some',\n",
       " 'goal',\n",
       " 'or',\n",
       " 'objective',\n",
       " '.',\n",
       " '[',\n",
       " '4',\n",
       " ']',\n",
       " 'As',\n",
       " 'machines',\n",
       " 'become',\n",
       " 'increasingly',\n",
       " 'capable',\n",
       " ',',\n",
       " 'mental',\n",
       " 'faculties',\n",
       " 'once',\n",
       " 'thought',\n",
       " 'to',\n",
       " 'require',\n",
       " 'intelligence',\n",
       " 'are',\n",
       " 'removed',\n",
       " 'from',\n",
       " 'the',\n",
       " 'definition',\n",
       " '.',\n",
       " 'For',\n",
       " 'example',\n",
       " ',',\n",
       " 'optical',\n",
       " 'character',\n",
       " 'recognition',\n",
       " 'is',\n",
       " 'no',\n",
       " 'longer',\n",
       " 'perceived',\n",
       " 'as',\n",
       " 'an',\n",
       " 'example',\n",
       " 'of',\n",
       " '``',\n",
       " 'artificial',\n",
       " 'intelligence',\n",
       " \"''\",\n",
       " ':',\n",
       " 'it',\n",
       " 'is',\n",
       " 'just',\n",
       " 'a',\n",
       " 'routine',\n",
       " 'technology',\n",
       " '.',\n",
       " 'At',\n",
       " 'present',\n",
       " 'we',\n",
       " 'use',\n",
       " 'the',\n",
       " 'term',\n",
       " 'AI',\n",
       " 'for',\n",
       " 'successfully',\n",
       " 'understanding',\n",
       " 'human',\n",
       " 'speech',\n",
       " ',',\n",
       " '[',\n",
       " '2',\n",
       " ']',\n",
       " 'competing',\n",
       " 'at',\n",
       " 'a',\n",
       " 'high',\n",
       " 'level',\n",
       " 'in',\n",
       " 'strategic',\n",
       " 'game',\n",
       " 'systems',\n",
       " '(',\n",
       " 'such',\n",
       " 'as',\n",
       " 'Chess',\n",
       " 'and',\n",
       " 'Go',\n",
       " ')',\n",
       " ',',\n",
       " 'self-driving',\n",
       " 'cars',\n",
       " ',',\n",
       " 'and',\n",
       " 'interpreting',\n",
       " 'complex',\n",
       " 'data',\n",
       " '.',\n",
       " '[',\n",
       " '5',\n",
       " ']',\n",
       " 'Some',\n",
       " 'people',\n",
       " 'also',\n",
       " 'consider',\n",
       " 'AI',\n",
       " 'a',\n",
       " 'danger',\n",
       " 'to',\n",
       " 'humanity',\n",
       " 'if',\n",
       " 'it',\n",
       " 'continues',\n",
       " 'to',\n",
       " 'progress',\n",
       " 'at',\n",
       " 'its',\n",
       " 'current',\n",
       " 'pace',\n",
       " '.',\n",
       " '[',\n",
       " '6',\n",
       " ']',\n",
       " 'An',\n",
       " 'extreme',\n",
       " 'goal',\n",
       " 'of',\n",
       " 'AI',\n",
       " 'research',\n",
       " 'is',\n",
       " 'to',\n",
       " 'create',\n",
       " 'computer',\n",
       " 'programs',\n",
       " 'that',\n",
       " 'can',\n",
       " 'learn',\n",
       " ',',\n",
       " 'solve',\n",
       " 'problems',\n",
       " ',',\n",
       " 'and',\n",
       " 'think',\n",
       " 'logically',\n",
       " '.',\n",
       " '[',\n",
       " '7',\n",
       " ']',\n",
       " '[',\n",
       " '8',\n",
       " ']',\n",
       " 'In',\n",
       " 'practice',\n",
       " ',',\n",
       " 'however',\n",
       " ',',\n",
       " 'most',\n",
       " 'applications',\n",
       " 'have',\n",
       " 'picked',\n",
       " 'on',\n",
       " 'problems',\n",
       " 'which',\n",
       " 'computers',\n",
       " 'can',\n",
       " 'do',\n",
       " 'well',\n",
       " '.',\n",
       " 'Searching',\n",
       " 'data',\n",
       " 'bases',\n",
       " 'and',\n",
       " 'doing',\n",
       " 'calculations',\n",
       " 'are',\n",
       " 'things',\n",
       " 'computers',\n",
       " 'do',\n",
       " 'better',\n",
       " 'than',\n",
       " 'people',\n",
       " '.',\n",
       " 'On',\n",
       " 'the',\n",
       " 'other',\n",
       " 'hand',\n",
       " ',',\n",
       " '``',\n",
       " 'perceiving',\n",
       " 'its',\n",
       " 'environment',\n",
       " \"''\",\n",
       " 'in',\n",
       " 'any',\n",
       " 'real',\n",
       " 'sense',\n",
       " 'is',\n",
       " 'way',\n",
       " 'beyond',\n",
       " 'present-day',\n",
       " 'computing',\n",
       " '.',\n",
       " 'AI',\n",
       " 'involves',\n",
       " 'many',\n",
       " 'different',\n",
       " 'fields',\n",
       " 'like',\n",
       " 'computer',\n",
       " 'science',\n",
       " ',',\n",
       " 'mathematics',\n",
       " ',',\n",
       " 'linguistics',\n",
       " ',',\n",
       " 'psychology',\n",
       " ',',\n",
       " 'neuroscience',\n",
       " ',',\n",
       " 'and',\n",
       " 'philosophy',\n",
       " '.',\n",
       " 'Eventually',\n",
       " 'researchers',\n",
       " 'hope',\n",
       " 'to',\n",
       " 'create',\n",
       " 'a',\n",
       " 'general',\n",
       " 'artificial',\n",
       " 'intelligence',\n",
       " 'which',\n",
       " 'can',\n",
       " 'solve',\n",
       " 'many',\n",
       " 'problems',\n",
       " 'instead',\n",
       " 'of',\n",
       " 'focusing',\n",
       " 'on',\n",
       " 'just',\n",
       " 'one',\n",
       " '.',\n",
       " 'Researchers',\n",
       " 'are',\n",
       " 'also',\n",
       " 'trying',\n",
       " 'to',\n",
       " 'create',\n",
       " 'creative',\n",
       " 'and',\n",
       " 'emotional',\n",
       " 'AI',\n",
       " 'which',\n",
       " 'can',\n",
       " 'possibly',\n",
       " 'empathize',\n",
       " 'or',\n",
       " 'create',\n",
       " 'art',\n",
       " '.',\n",
       " 'Many',\n",
       " 'approaches',\n",
       " 'and',\n",
       " 'tools',\n",
       " 'have',\n",
       " 'been',\n",
       " 'tried',\n",
       " '.',\n",
       " 'Borrowing',\n",
       " 'from',\n",
       " 'the',\n",
       " 'management',\n",
       " 'literature',\n",
       " ',',\n",
       " 'Kaplan',\n",
       " 'and',\n",
       " 'Haenlein',\n",
       " 'classify',\n",
       " 'artificial',\n",
       " 'intelligence',\n",
       " 'into',\n",
       " 'three',\n",
       " 'different',\n",
       " 'types',\n",
       " 'of',\n",
       " 'AI',\n",
       " 'systems',\n",
       " ':',\n",
       " 'analytical',\n",
       " ',',\n",
       " 'human-inspired',\n",
       " ',',\n",
       " 'and',\n",
       " 'humanized',\n",
       " 'artificial',\n",
       " 'intelligence',\n",
       " '.',\n",
       " '[',\n",
       " '3',\n",
       " ']',\n",
       " 'Analytical',\n",
       " 'AI',\n",
       " 'has',\n",
       " 'only',\n",
       " 'characteristics',\n",
       " 'consistent',\n",
       " 'with',\n",
       " 'cognitive',\n",
       " 'intelligence',\n",
       " 'generating',\n",
       " 'cognitive',\n",
       " 'representation',\n",
       " 'of',\n",
       " 'the',\n",
       " 'world',\n",
       " 'and',\n",
       " 'using',\n",
       " 'learning',\n",
       " 'based',\n",
       " 'on',\n",
       " 'past',\n",
       " 'experience',\n",
       " 'to',\n",
       " 'inform',\n",
       " 'future',\n",
       " 'decisions',\n",
       " '.',\n",
       " 'Human-inspired',\n",
       " 'AI',\n",
       " 'has',\n",
       " 'elements',\n",
       " 'from',\n",
       " 'cognitive',\n",
       " 'as',\n",
       " 'well',\n",
       " 'as',\n",
       " 'emotional',\n",
       " 'intelligence',\n",
       " ',',\n",
       " 'understanding',\n",
       " ',',\n",
       " 'in',\n",
       " 'addition',\n",
       " 'to',\n",
       " 'cognitive',\n",
       " 'elements',\n",
       " ',',\n",
       " 'also',\n",
       " 'human',\n",
       " 'emotions',\n",
       " 'considering',\n",
       " 'them',\n",
       " 'in',\n",
       " 'their',\n",
       " 'decision',\n",
       " 'making',\n",
       " '.',\n",
       " 'Humanized',\n",
       " 'AI',\n",
       " 'shows',\n",
       " 'characteristics',\n",
       " 'of',\n",
       " 'all',\n",
       " 'types',\n",
       " 'of',\n",
       " 'competencies',\n",
       " '(',\n",
       " 'i.e.',\n",
       " ',',\n",
       " 'cognitive',\n",
       " ',',\n",
       " 'emotional',\n",
       " ',',\n",
       " 'and',\n",
       " 'social',\n",
       " 'intelligence',\n",
       " ')',\n",
       " ',',\n",
       " 'able',\n",
       " 'to',\n",
       " 'be',\n",
       " 'self-conscious',\n",
       " 'and',\n",
       " 'self-aware',\n",
       " 'in',\n",
       " 'interactions',\n",
       " 'with',\n",
       " 'others',\n",
       " '.']"
      ]
     },
     "execution_count": 8,
     "metadata": {},
     "output_type": "execute_result"
    }
   ],
   "source": [
    "AI_words"
   ]
  },
  {
   "cell_type": "code",
   "execution_count": 9,
   "metadata": {},
   "outputs": [],
   "source": [
    "from nltk.probability import FreqDist\n",
    "freq=FreqDist()"
   ]
  },
  {
   "cell_type": "code",
   "execution_count": 10,
   "metadata": {},
   "outputs": [
    {
     "data": {
      "text/plain": [
       "FreqDist({',': 30, '.': 20, 'and': 17, 'to': 14, '[': 10, ']': 10, 'ai': 10, 'intelligence': 9, 'of': 9, 'in': 8, ...})"
      ]
     },
     "execution_count": 10,
     "metadata": {},
     "output_type": "execute_result"
    }
   ],
   "source": [
    "for words in AI_words:\n",
    "    freq[words.lower()]+=1\n",
    "freq"
   ]
  },
  {
   "cell_type": "code",
   "execution_count": 11,
   "metadata": {},
   "outputs": [],
   "source": [
    "from nltk.tokenize import blankline_tokenize\n",
    "blank=blankline_tokenize(AI)"
   ]
  },
  {
   "cell_type": "code",
   "execution_count": 12,
   "metadata": {},
   "outputs": [
    {
     "data": {
      "text/plain": [
       "['In general use, the term artificial intelligence[1] means a programme which mimics human cognition. At least some of the things we associate with other minds, such as learning and problem solving can be done by computers, though not in the same way as we do.[2] Andreas Kaplan and Michael Haenlein define AI as a system’s ability to correctly interpret external data, to learn from such data, and to use those learnings to achieve specific goals and tasks through flexible adaptation.[3]',\n",
       " 'An ideal (perfect) intelligent machine is a flexible agent which perceives its environment and takes actions to maximize its chance of success at some goal or objective.[4] As machines become increasingly capable, mental faculties once thought to require intelligence are removed from the definition. For example, optical character recognition is no longer perceived as an example of \"artificial intelligence\": it is just a routine technology.',\n",
       " 'At present we use the term AI for successfully understanding human speech,[2] competing at a high level in strategic game systems (such as Chess and Go), self-driving cars, and interpreting complex data.[5] Some people also consider AI a danger to humanity if it continues to progress at its current pace.[6]',\n",
       " 'An extreme goal of AI research is to create computer programs that can learn, solve problems, and think logically.[7][8] In practice, however, most applications have picked on problems which computers can do well. Searching data bases and doing calculations are things computers do better than people. On the other hand, \"perceiving its environment\" in any real sense is way beyond present-day computing.',\n",
       " 'AI involves many different fields like computer science, mathematics, linguistics, psychology, neuroscience, and philosophy. Eventually researchers hope to create a general artificial intelligence which can solve many problems instead of focusing on just one. Researchers are also trying to create creative and emotional AI which can possibly empathize or create art. Many approaches and tools have been tried.',\n",
       " 'Borrowing from the management literature, Kaplan and Haenlein classify artificial intelligence into three different types of AI systems: analytical, human-inspired, and humanized artificial intelligence.[3] Analytical AI has only characteristics consistent with cognitive intelligence generating cognitive representation of the world and using learning based on past experience to inform future decisions. Human-inspired AI has elements from cognitive as well as emotional intelligence, understanding, in addition to cognitive elements, also human emotions considering them in their decision making. Humanized AI shows characteristics of all types of competencies (i.e., cognitive, emotional, and social intelligence), able to be self-conscious and self-aware in interactions with others. ']"
      ]
     },
     "execution_count": 12,
     "metadata": {},
     "output_type": "execute_result"
    }
   ],
   "source": [
    "blank"
   ]
  },
  {
   "cell_type": "code",
   "execution_count": 13,
   "metadata": {},
   "outputs": [
    {
     "data": {
      "text/plain": [
       "6"
      ]
     },
     "execution_count": 13,
     "metadata": {},
     "output_type": "execute_result"
    }
   ],
   "source": [
    "len(blank)"
   ]
  },
  {
   "cell_type": "code",
   "execution_count": 16,
   "metadata": {},
   "outputs": [
    {
     "data": {
      "text/plain": [
       "['Borrowing',\n",
       " 'from',\n",
       " 'the',\n",
       " 'management',\n",
       " 'literature',\n",
       " ',',\n",
       " 'Kaplan',\n",
       " 'and',\n",
       " 'Haenlein',\n",
       " 'classify',\n",
       " 'artificial',\n",
       " 'intelligence',\n",
       " 'into',\n",
       " 'three',\n",
       " 'different',\n",
       " 'types',\n",
       " 'of',\n",
       " 'AI',\n",
       " 'systems',\n",
       " ':',\n",
       " 'analytical',\n",
       " ',',\n",
       " 'human-inspired',\n",
       " ',',\n",
       " 'and',\n",
       " 'humanized',\n",
       " 'artificial',\n",
       " 'intelligence']"
      ]
     },
     "execution_count": 16,
     "metadata": {},
     "output_type": "execute_result"
    }
   ],
   "source": [
    "str=\"Borrowing from the management literature, Kaplan and Haenlein classify artificial intelligence into three different types of AI systems: analytical, human-inspired, and humanized artificial intelligence\"\n",
    "tok=nltk.word_tokenize(str)\n",
    "tok"
   ]
  },
  {
   "cell_type": "code",
   "execution_count": 17,
   "metadata": {},
   "outputs": [],
   "source": [
    "bi_grams=list(nltk.bigrams(tok))"
   ]
  },
  {
   "cell_type": "code",
   "execution_count": 18,
   "metadata": {},
   "outputs": [
    {
     "data": {
      "text/plain": [
       "[('Borrowing', 'from'),\n",
       " ('from', 'the'),\n",
       " ('the', 'management'),\n",
       " ('management', 'literature'),\n",
       " ('literature', ','),\n",
       " (',', 'Kaplan'),\n",
       " ('Kaplan', 'and'),\n",
       " ('and', 'Haenlein'),\n",
       " ('Haenlein', 'classify'),\n",
       " ('classify', 'artificial'),\n",
       " ('artificial', 'intelligence'),\n",
       " ('intelligence', 'into'),\n",
       " ('into', 'three'),\n",
       " ('three', 'different'),\n",
       " ('different', 'types'),\n",
       " ('types', 'of'),\n",
       " ('of', 'AI'),\n",
       " ('AI', 'systems'),\n",
       " ('systems', ':'),\n",
       " (':', 'analytical'),\n",
       " ('analytical', ','),\n",
       " (',', 'human-inspired'),\n",
       " ('human-inspired', ','),\n",
       " (',', 'and'),\n",
       " ('and', 'humanized'),\n",
       " ('humanized', 'artificial'),\n",
       " ('artificial', 'intelligence')]"
      ]
     },
     "execution_count": 18,
     "metadata": {},
     "output_type": "execute_result"
    }
   ],
   "source": [
    "bi_grams"
   ]
  },
  {
   "cell_type": "code",
   "execution_count": 19,
   "metadata": {},
   "outputs": [
    {
     "data": {
      "text/plain": [
       "[('Borrowing', 'from', 'the', 'management', 'literature'),\n",
       " ('from', 'the', 'management', 'literature', ','),\n",
       " ('the', 'management', 'literature', ',', 'Kaplan'),\n",
       " ('management', 'literature', ',', 'Kaplan', 'and'),\n",
       " ('literature', ',', 'Kaplan', 'and', 'Haenlein'),\n",
       " (',', 'Kaplan', 'and', 'Haenlein', 'classify'),\n",
       " ('Kaplan', 'and', 'Haenlein', 'classify', 'artificial'),\n",
       " ('and', 'Haenlein', 'classify', 'artificial', 'intelligence'),\n",
       " ('Haenlein', 'classify', 'artificial', 'intelligence', 'into'),\n",
       " ('classify', 'artificial', 'intelligence', 'into', 'three'),\n",
       " ('artificial', 'intelligence', 'into', 'three', 'different'),\n",
       " ('intelligence', 'into', 'three', 'different', 'types'),\n",
       " ('into', 'three', 'different', 'types', 'of'),\n",
       " ('three', 'different', 'types', 'of', 'AI'),\n",
       " ('different', 'types', 'of', 'AI', 'systems'),\n",
       " ('types', 'of', 'AI', 'systems', ':'),\n",
       " ('of', 'AI', 'systems', ':', 'analytical'),\n",
       " ('AI', 'systems', ':', 'analytical', ','),\n",
       " ('systems', ':', 'analytical', ',', 'human-inspired'),\n",
       " (':', 'analytical', ',', 'human-inspired', ','),\n",
       " ('analytical', ',', 'human-inspired', ',', 'and'),\n",
       " (',', 'human-inspired', ',', 'and', 'humanized'),\n",
       " ('human-inspired', ',', 'and', 'humanized', 'artificial'),\n",
       " (',', 'and', 'humanized', 'artificial', 'intelligence')]"
      ]
     },
     "execution_count": 19,
     "metadata": {},
     "output_type": "execute_result"
    }
   ],
   "source": [
    "n_grams=list(nltk.ngrams(tok,5))\n",
    "n_grams"
   ]
  },
  {
   "cell_type": "code",
   "execution_count": 20,
   "metadata": {},
   "outputs": [],
   "source": [
    "from nltk.corpus import stopwords"
   ]
  },
  {
   "cell_type": "code",
   "execution_count": 22,
   "metadata": {},
   "outputs": [
    {
     "name": "stderr",
     "output_type": "stream",
     "text": [
      "[nltk_data] Downloading package stopwords to\n",
      "[nltk_data]     C:\\Users\\KIIT\\AppData\\Roaming\\nltk_data...\n",
      "[nltk_data]   Unzipping corpora\\stopwords.zip.\n"
     ]
    },
    {
     "data": {
      "text/plain": [
       "True"
      ]
     },
     "execution_count": 22,
     "metadata": {},
     "output_type": "execute_result"
    }
   ],
   "source": [
    "nltk.download('stopwords')"
   ]
  },
  {
   "cell_type": "code",
   "execution_count": 23,
   "metadata": {},
   "outputs": [
    {
     "data": {
      "text/plain": [
       "['i',\n",
       " 'me',\n",
       " 'my',\n",
       " 'myself',\n",
       " 'we',\n",
       " 'our',\n",
       " 'ours',\n",
       " 'ourselves',\n",
       " 'you',\n",
       " \"you're\",\n",
       " \"you've\",\n",
       " \"you'll\",\n",
       " \"you'd\",\n",
       " 'your',\n",
       " 'yours',\n",
       " 'yourself',\n",
       " 'yourselves',\n",
       " 'he',\n",
       " 'him',\n",
       " 'his',\n",
       " 'himself',\n",
       " 'she',\n",
       " \"she's\",\n",
       " 'her',\n",
       " 'hers',\n",
       " 'herself',\n",
       " 'it',\n",
       " \"it's\",\n",
       " 'its',\n",
       " 'itself',\n",
       " 'they',\n",
       " 'them',\n",
       " 'their',\n",
       " 'theirs',\n",
       " 'themselves',\n",
       " 'what',\n",
       " 'which',\n",
       " 'who',\n",
       " 'whom',\n",
       " 'this',\n",
       " 'that',\n",
       " \"that'll\",\n",
       " 'these',\n",
       " 'those',\n",
       " 'am',\n",
       " 'is',\n",
       " 'are',\n",
       " 'was',\n",
       " 'were',\n",
       " 'be',\n",
       " 'been',\n",
       " 'being',\n",
       " 'have',\n",
       " 'has',\n",
       " 'had',\n",
       " 'having',\n",
       " 'do',\n",
       " 'does',\n",
       " 'did',\n",
       " 'doing',\n",
       " 'a',\n",
       " 'an',\n",
       " 'the',\n",
       " 'and',\n",
       " 'but',\n",
       " 'if',\n",
       " 'or',\n",
       " 'because',\n",
       " 'as',\n",
       " 'until',\n",
       " 'while',\n",
       " 'of',\n",
       " 'at',\n",
       " 'by',\n",
       " 'for',\n",
       " 'with',\n",
       " 'about',\n",
       " 'against',\n",
       " 'between',\n",
       " 'into',\n",
       " 'through',\n",
       " 'during',\n",
       " 'before',\n",
       " 'after',\n",
       " 'above',\n",
       " 'below',\n",
       " 'to',\n",
       " 'from',\n",
       " 'up',\n",
       " 'down',\n",
       " 'in',\n",
       " 'out',\n",
       " 'on',\n",
       " 'off',\n",
       " 'over',\n",
       " 'under',\n",
       " 'again',\n",
       " 'further',\n",
       " 'then',\n",
       " 'once',\n",
       " 'here',\n",
       " 'there',\n",
       " 'when',\n",
       " 'where',\n",
       " 'why',\n",
       " 'how',\n",
       " 'all',\n",
       " 'any',\n",
       " 'both',\n",
       " 'each',\n",
       " 'few',\n",
       " 'more',\n",
       " 'most',\n",
       " 'other',\n",
       " 'some',\n",
       " 'such',\n",
       " 'no',\n",
       " 'nor',\n",
       " 'not',\n",
       " 'only',\n",
       " 'own',\n",
       " 'same',\n",
       " 'so',\n",
       " 'than',\n",
       " 'too',\n",
       " 'very',\n",
       " 's',\n",
       " 't',\n",
       " 'can',\n",
       " 'will',\n",
       " 'just',\n",
       " 'don',\n",
       " \"don't\",\n",
       " 'should',\n",
       " \"should've\",\n",
       " 'now',\n",
       " 'd',\n",
       " 'll',\n",
       " 'm',\n",
       " 'o',\n",
       " 're',\n",
       " 've',\n",
       " 'y',\n",
       " 'ain',\n",
       " 'aren',\n",
       " \"aren't\",\n",
       " 'couldn',\n",
       " \"couldn't\",\n",
       " 'didn',\n",
       " \"didn't\",\n",
       " 'doesn',\n",
       " \"doesn't\",\n",
       " 'hadn',\n",
       " \"hadn't\",\n",
       " 'hasn',\n",
       " \"hasn't\",\n",
       " 'haven',\n",
       " \"haven't\",\n",
       " 'isn',\n",
       " \"isn't\",\n",
       " 'ma',\n",
       " 'mightn',\n",
       " \"mightn't\",\n",
       " 'mustn',\n",
       " \"mustn't\",\n",
       " 'needn',\n",
       " \"needn't\",\n",
       " 'shan',\n",
       " \"shan't\",\n",
       " 'shouldn',\n",
       " \"shouldn't\",\n",
       " 'wasn',\n",
       " \"wasn't\",\n",
       " 'weren',\n",
       " \"weren't\",\n",
       " 'won',\n",
       " \"won't\",\n",
       " 'wouldn',\n",
       " \"wouldn't\"]"
      ]
     },
     "execution_count": 23,
     "metadata": {},
     "output_type": "execute_result"
    }
   ],
   "source": [
    "stopwords.words('english')"
   ]
  },
  {
   "cell_type": "code",
   "execution_count": 31,
   "metadata": {},
   "outputs": [
    {
     "name": "stderr",
     "output_type": "stream",
     "text": [
      "[nltk_data] Downloading package averaged_perceptron_tagger to\n",
      "[nltk_data]     C:\\Users\\KIIT\\AppData\\Roaming\\nltk_data...\n",
      "[nltk_data]   Unzipping taggers\\averaged_perceptron_tagger.zip.\n"
     ]
    },
    {
     "data": {
      "text/plain": [
       "True"
      ]
     },
     "execution_count": 31,
     "metadata": {},
     "output_type": "execute_result"
    }
   ],
   "source": [
    "nltk.download('averaged_perceptron_tagger')"
   ]
  },
  {
   "cell_type": "code",
   "execution_count": 34,
   "metadata": {},
   "outputs": [
    {
     "name": "stdout",
     "output_type": "stream",
     "text": [
      "[('Andreas', 'NNS')]\n",
      "[('Kaplan', 'NN')]\n",
      "[('and', 'CC')]\n",
      "[('Michael', 'NNP')]\n",
      "[('Haenlein', 'NNP')]\n",
      "[('define', 'NN')]\n",
      "[('AI', 'NN')]\n",
      "[('as', 'IN')]\n",
      "[('a', 'DT')]\n",
      "[('system', 'NN')]\n",
      "[('’', 'NN')]\n",
      "[('s', 'NN')]\n",
      "[('ability', 'NN')]\n",
      "[('to', 'TO')]\n",
      "[('correctly', 'RB')]\n",
      "[('interpret', 'NN')]\n",
      "[('external', 'JJ')]\n",
      "[('data', 'NNS')]\n",
      "[(',', ',')]\n",
      "[('to', 'TO')]\n",
      "[('learn', 'NN')]\n",
      "[('from', 'IN')]\n",
      "[('such', 'JJ')]\n",
      "[('data', 'NNS')]\n",
      "[(',', ',')]\n",
      "[('and', 'CC')]\n",
      "[('to', 'TO')]\n",
      "[('use', 'NN')]\n",
      "[('those', 'DT')]\n",
      "[('learnings', 'NNS')]\n",
      "[('to', 'TO')]\n",
      "[('achieve', 'NN')]\n",
      "[('specific', 'JJ')]\n",
      "[('goals', 'NNS')]\n",
      "[('and', 'CC')]\n",
      "[('tasks', 'NNS')]\n",
      "[('through', 'IN')]\n",
      "[('flexible', 'JJ')]\n",
      "[('adaptation', 'NN')]\n"
     ]
    }
   ],
   "source": [
    "str1=\" Andreas Kaplan and Michael Haenlein define AI as a system’s ability to correctly interpret external data, to learn from such data, and to use those learnings to achieve specific goals and tasks through flexible adaptation\"\n",
    "toke=nltk.word_tokenize(str1)\n",
    "for words in toke:\n",
    "    print(nltk.pos_tag([words]))"
   ]
  },
  {
   "cell_type": "code",
   "execution_count": 36,
   "metadata": {},
   "outputs": [],
   "source": [
    "from nltk import ne_chunk"
   ]
  },
  {
   "cell_type": "code",
   "execution_count": 37,
   "metadata": {},
   "outputs": [
    {
     "data": {
      "text/plain": [
       "[('The', 'DT'),\n",
       " ('US', 'NNP'),\n",
       " ('president', 'NN'),\n",
       " ('stays', 'NNS'),\n",
       " ('in', 'IN'),\n",
       " ('the', 'DT'),\n",
       " ('WHITE', 'NNP'),\n",
       " ('HOUSE', 'NNP')]"
      ]
     },
     "execution_count": 37,
     "metadata": {},
     "output_type": "execute_result"
    }
   ],
   "source": [
    "str2=\"The US president stays in the WHITE HOUSE\"\n",
    "toke=word_tokenize(str2)\n",
    "NE_tags=nltk.pos_tag(toke)\n",
    "NE_tags"
   ]
  },
  {
   "cell_type": "code",
   "execution_count": 39,
   "metadata": {},
   "outputs": [
    {
     "name": "stderr",
     "output_type": "stream",
     "text": [
      "[nltk_data] Downloading package maxent_ne_chunker to\n",
      "[nltk_data]     C:\\Users\\KIIT\\AppData\\Roaming\\nltk_data...\n",
      "[nltk_data]   Unzipping chunkers\\maxent_ne_chunker.zip.\n"
     ]
    },
    {
     "data": {
      "text/plain": [
       "True"
      ]
     },
     "execution_count": 39,
     "metadata": {},
     "output_type": "execute_result"
    }
   ],
   "source": [
    "nltk.download('maxent_ne_chunker')"
   ]
  },
  {
   "cell_type": "code",
   "execution_count": 43,
   "metadata": {},
   "outputs": [
    {
     "name": "stderr",
     "output_type": "stream",
     "text": [
      "[nltk_data] Downloading package words to\n",
      "[nltk_data]     C:\\Users\\KIIT\\AppData\\Roaming\\nltk_data...\n",
      "[nltk_data]   Unzipping corpora\\words.zip.\n"
     ]
    },
    {
     "data": {
      "text/plain": [
       "True"
      ]
     },
     "execution_count": 43,
     "metadata": {},
     "output_type": "execute_result"
    }
   ],
   "source": [
    "nltk.download('words')"
   ]
  },
  {
   "cell_type": "code",
   "execution_count": 46,
   "metadata": {
    "scrolled": false
   },
   "outputs": [
    {
     "name": "stdout",
     "output_type": "stream",
     "text": [
      "(S\n",
      "  The/DT\n",
      "  (GSP US/NNP)\n",
      "  president/NN\n",
      "  stays/NNS\n",
      "  in/IN\n",
      "  the/DT\n",
      "  (FACILITY WHITE/NNP HOUSE/NNP))\n"
     ]
    }
   ],
   "source": [
    "\n",
    "\n",
    "Ner=ne_chunk(NE_tags)\n",
    "print(Ner)"
   ]
  },
  {
   "cell_type": "code",
   "execution_count": null,
   "metadata": {},
   "outputs": [],
   "source": []
  }
 ],
 "metadata": {
  "kernelspec": {
   "display_name": "Python 3",
   "language": "python",
   "name": "python3"
  },
  "language_info": {
   "codemirror_mode": {
    "name": "ipython",
    "version": 3
   },
   "file_extension": ".py",
   "mimetype": "text/x-python",
   "name": "python",
   "nbconvert_exporter": "python",
   "pygments_lexer": "ipython3",
   "version": "3.8.5"
  }
 },
 "nbformat": 4,
 "nbformat_minor": 4
}
